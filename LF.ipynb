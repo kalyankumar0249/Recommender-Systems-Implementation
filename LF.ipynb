{
  "nbformat": 4,
  "nbformat_minor": 0,
  "metadata": {
    "colab": {
      "name": "LF.ipynb",
      "provenance": [],
      "collapsed_sections": []
    },
    "kernelspec": {
      "name": "python3",
      "display_name": "Python 3"
    }
  },
  "cells": [
    {
      "cell_type": "markdown",
      "metadata": {
        "id": "C5DkvB5F1qaL"
      },
      "source": [
        "Names: Kalyan Kumar Alisetty, Maruthi Sankar Nanduri"
      ]
    },
    {
      "cell_type": "code",
      "metadata": {
        "id": "bl2s-uClGLo-",
        "outputId": "0a1e072c-5dfd-4bfc-dc4e-003b9da24578",
        "colab": {
          "base_uri": "https://localhost:8080/"
        }
      },
      "source": [
        "from google.colab import drive #This statement helps to connect to the google drive\n",
        "drive.mount('/content/drive')"
      ],
      "execution_count": 11,
      "outputs": [
        {
          "output_type": "stream",
          "text": [
            "Drive already mounted at /content/drive; to attempt to forcibly remount, call drive.mount(\"/content/drive\", force_remount=True).\n"
          ],
          "name": "stdout"
        }
      ]
    },
    {
      "cell_type": "code",
      "metadata": {
        "id": "N5R9lzAyGz-i"
      },
      "source": [
        "import numpy as np\n",
        "from numpy.linalg import norm\n",
        "import matplotlib.pyplot as plt #importing necessary libraries"
      ],
      "execution_count": 12,
      "outputs": []
    },
    {
      "cell_type": "code",
      "metadata": {
        "id": "i4rtDklBskoZ"
      },
      "source": [
        "training_path = '/content/drive/My Drive/CS5683/training_dataset.csv' #Path to the training dataset\n",
        "with open(training_path) as f: # In this we are just trying to collect all the users and movies into two lists\n",
        "  count = 0\n",
        "  userslist = [] # users list\n",
        "  movieslist = [] # movies list initialization\n",
        "  for line in f: # reading each line from the input directory\n",
        "    lis = line.split(',') #split the line read\n",
        "    if count > 0: #to removed the header \n",
        "      u = int(lis[0]) # user ID\n",
        "      m = int(lis[1]) # movie ID\n",
        "      if u not in userslist:\n",
        "        userslist.append(u)\n",
        "      if m not in movieslist:\n",
        "        movieslist.append(m)\n",
        "    count += 1"
      ],
      "execution_count": 13,
      "outputs": []
    },
    {
      "cell_type": "code",
      "metadata": {
        "id": "ZWNRi3DRGiQq"
      },
      "source": [
        "users = max(userslist) #The max gives the highest user id in the list of users\n",
        "movies = max(movieslist) #The max gives the highest item id in the list of movies\n",
        "k = 25\n",
        "min_val = 0\n",
        "max_val = np.sqrt(5/k)\n",
        "#P = np.random.rand(users,k)\n",
        "#Q = np.random.rand(movies,k)\n",
        "P = np.random.uniform(0,max_val,(users,k)) # initialization of the P and Q matrix with values in the range of [0,sqrt(5/𝑘)]\n",
        "Q = np.random.uniform(0,max_val,(movies,k))\n",
        "lmbda = 0.1 \n",
        "mu = 0.01 \n",
        "iterations = 40"
      ],
      "execution_count": 52,
      "outputs": []
    },
    {
      "cell_type": "code",
      "metadata": {
        "id": "ONvB95LTM34g"
      },
      "source": [
        "training_path = '/content/drive/My Drive/CS5683/training_dataset.csv' #input training path\n",
        "error_values = {} # To collect the values of the error E after each iteration\n",
        "for epoch in range(iterations):\n",
        "  with open(training_path) as f:\n",
        "    count = 0\n",
        "    count1 = 0\n",
        "    E= 0\n",
        "    Pe = 0\n",
        "    Qe = 0\n",
        "    for line in f:#reading each line from the input file\n",
        "      lis = line.split(',') # split it using comma as it is CSV\n",
        "      if count > 0: # to remove the first line read as it is the header line\n",
        "        u = int(lis[0])-1 #First place consists of user id\n",
        "        m = int(lis[1])-1 #Second place consists of movie id\n",
        "        r = int(lis[2]) #This place consists of rating\n",
        "        e = r - np.dot(P[u, :], Q[m, :].T) #\n",
        "        P[u, :] += mu * ( e * Q[m, :] - lmbda * P[u, :]) # Update this user's features matrix using the given formula\n",
        "        Q[m, :] += mu * ( e * P[u, :] - lmbda * Q[m, :])  # Update this movie's features matrix using the given formula\n",
        "      count += 1\n",
        "    for line1 in f: #I am reading the whole file again to calculate the overall error after the P and Q matrix are finalized\n",
        "      lis1 = line1.split(',') # split it using comma as it is CSV\n",
        "      if count1 > 0: # to remove the first line read as it is the header line\n",
        "        u = int(lis1[0])-1 #First place consists of user id\n",
        "        m = int(lis1[1])-1 #Second place consists of movie id\n",
        "        r = int(lis1[2]) #This place consists of rating\n",
        "        E += pow((r-np.dot(P[u, :], Q[m, :].T)),2)  #calculating the 1st portion of error value using the function given in the material\n",
        "      count1 += 1\n",
        "    for x in range(len(P)): #Calculating the second portion in the error function\n",
        "      Pe += pow((norm(P[x,:])),2)\n",
        "    for y in range(len(Q)):\n",
        "      Qe += pow((norm(Q[y,:])),2)\n",
        "    E = E + lmbda*(Pe + Qe) # Finally adding all to give the total error function value\n",
        "  #print('Iteration number : '+str(epoch) + ' with error : ' + str(E))\n",
        "  error_values[epoch] = E # storing into a dictionary"
      ],
      "execution_count": 53,
      "outputs": []
    },
    {
      "cell_type": "code",
      "metadata": {
        "id": "4rtXnZFkJHCI",
        "outputId": "54f6090d-a688-4026-d076-c15bffe8708a",
        "colab": {
          "base_uri": "https://localhost:8080/",
          "height": 312
        }
      },
      "source": [
        "plt.title('Error Function')\n",
        "plt.ylabel('Error Function Value')\n",
        "plt.xlabel('Iteration')\n",
        "plt.plot(list(error_values.keys()),list(error_values.values())) #Here is the line plot of the error function and iteration number. The error function seems to be optimized in the increasing order."
      ],
      "execution_count": 54,
      "outputs": [
        {
          "output_type": "execute_result",
          "data": {
            "text/plain": [
              "[<matplotlib.lines.Line2D at 0x7f4a3075fc18>]"
            ]
          },
          "metadata": {
            "tags": []
          },
          "execution_count": 54
        },
        {
          "output_type": "display_data",
          "data": {
            "image/png": "[encoded data removed]",
            "text/plain": [
              "<Figure size 432x288 with 1 Axes>"
            ]
          },
          "metadata": {
            "tags": [],
            "needs_background": "light"
          }
        }
      ]
    },
    {
      "cell_type": "code",
      "metadata": {
        "id": "wTuILKb3OoIV"
      },
      "source": [
        "from sklearn.metrics import mean_squared_error # This is function used to calculate the RMSE\n",
        "from math import sqrt\n",
        "def RMSE(y_actual, y_predicted):\n",
        "  rms = sqrt(mean_squared_error(y_actual, y_predicted))\n",
        "  return round(rms,4)"
      ],
      "execution_count": 55,
      "outputs": []
    },
    {
      "cell_type": "code",
      "metadata": {
        "id": "5FGY83g_PXtf",
        "outputId": "ab7dfd8f-3ce2-40ea-e537-8ee049b2fd98",
        "colab": {
          "base_uri": "https://localhost:8080/"
        }
      },
      "source": [
        "testpath = '/content/drive/My Drive/CS5683/test_dataset.csv' # Path to the test dataset\n",
        "true_rating = [] # list of collect the original rating\n",
        "pred_rating = [] #list of collect the predicted rating\n",
        "with open(testpath) as f:\n",
        "  count = 0\n",
        "  for line in f: # Read each line of the file\n",
        "    lis = line.split(',') # split it using comma as it is CSV\n",
        "    if count > 0: # to remove the first line read as it is the header line\n",
        "      u = int(lis[0])-1 #First place consists of user id\n",
        "      m = int(lis[1])-1 #Second place consists of movie id\n",
        "      true_rating.append(int(lis[2])) #append the original rating to the list\n",
        "      pred_rating.append(np.dot(P[u, :], Q[m, :].T)) # using dot product on P and Q matrix to predict the rating and appending it to list\n",
        "    count +=1\n",
        "print(RMSE(true_rating,pred_rating)) # calculate the RMSE finally"
      ],
      "execution_count": 56,
      "outputs": [
        {
          "output_type": "stream",
          "text": [
            "0.8957\n"
          ],
          "name": "stdout"
        }
      ]
    },
    {
      "cell_type": "markdown",
      "metadata": {
        "id": "pqOKJfx412c2"
      },
      "source": [
        "Performace: Kalyan Kumar Alisetty has worked on this latent factor model implementation. Maruthi Sankar Nanduri has implementation Cosine similarity and Kalyan Kumar Alisetty has implemented the code for adjusted cosine similarity"
      ]
    },
    {
      "cell_type": "markdown",
      "metadata": {
        "id": "vFy2x3NT234p"
      },
      "source": [
        "Comparision of the two metrics models(CF and LF): The value for the RMSE on the test dataset is better for latent factor model(LF) compared to the collaborating filtering model(CF) as it has less value. LF model is the most advanced model compared to the CF as it also gives rating for the new movies or movies with less rating and also for new users."
      ]
    },
    {
      "cell_type": "code",
      "metadata": {
        "id": "wUiLQETF10jr"
      },
      "source": [
        ""
      ],
      "execution_count": null,
      "outputs": []
    },
    {
      "cell_type": "code",
      "metadata": {
        "id": "RqS3T9bA10pl"
      },
      "source": [
        ""
      ],
      "execution_count": null,
      "outputs": []
    },
    {
      "cell_type": "code",
      "metadata": {
        "id": "h_Yk1AOj10uK"
      },
      "source": [
        ""
      ],
      "execution_count": null,
      "outputs": []
    },
    {
      "cell_type": "code",
      "metadata": {
        "id": "3khCWrtq10mg"
      },
      "source": [
        ""
      ],
      "execution_count": null,
      "outputs": []
    },
    {
      "cell_type": "code",
      "metadata": {
        "id": "xD6lNZ9M10gY"
      },
      "source": [
        ""
      ],
      "execution_count": null,
      "outputs": []
    }
  ]
}